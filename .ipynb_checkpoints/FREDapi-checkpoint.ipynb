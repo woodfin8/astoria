{
 "cells": [
  {
   "cell_type": "code",
   "execution_count": 2,
   "metadata": {},
   "outputs": [],
   "source": [
    "import pandas as pd\n",
    "import numpy as np\n",
    "from fredapi import Fred\n",
    "from config import key, pwrd\n",
    "from tqdm import tqdm, tqdm_notebook\n",
    "import warnings\n",
    "import time\n",
    "from sqlalchemy import create_engine\n",
    "warnings.filterwarnings('ignore')"
   ]
  },
  {
   "cell_type": "code",
   "execution_count": null,
   "metadata": {},
   "outputs": [],
   "source": [
    "#connect to local database\n",
    "rds_connection_string = \"postgres:\"+ pwrd + \"@localhost:5432/astoria\"\n",
    "engine = create_engine(f'postgresql://{rds_connection_string}')"
   ]
  },
  {
   "cell_type": "code",
   "execution_count": 3,
   "metadata": {},
   "outputs": [],
   "source": [
    "#define FRED API call\n",
    "fred = Fred(api_key= key)"
   ]
  },
  {
   "cell_type": "code",
   "execution_count": 4,
   "metadata": {},
   "outputs": [],
   "source": [
    "#set column view options\n",
    "pd.set_option('display.max_columns', 999)\n",
    "pd.set_option('display.max_rows', 50)\n",
    "pd.set_option('display.max_colwidth', -1)"
   ]
  },
  {
   "cell_type": "code",
   "execution_count": null,
   "metadata": {},
   "outputs": [],
   "source": [
    "## Code to search FRED database\n",
    "# search = fred.search('new home sales', order_by='popularity', sort_order='desc')\n",
    "# search_df = pd.DataFrame(search[['title', 'id', 'popularity', 'units','seasonal_adjustment_short']])\n",
    "# search_df[:20]"
   ]
  },
  {
   "cell_type": "code",
   "execution_count": 5,
   "metadata": {},
   "outputs": [],
   "source": [
    "#desired indicators\n",
    "indicators = ['USSLIND', 'UMCSENT', 'CSCICP03USM665S', 'INDPRO', 'TCU','DGORDER', 'NEWORDER', 'PI','BUSINV', 'TOTALSA',\n",
    "             'MARTSMPCSM44X72USS', 'PAYEMS', 'UNRATE', 'ICSA', 'CCSA', 'CC4WSA', 'NPPTTL', 'CES0500000003', 'HSN1F',\n",
    "             'EXHOSLUSM495S', 'PERMIT', 'CSUSHPINSA']"
   ]
  },
  {
   "cell_type": "code",
   "execution_count": 6,
   "metadata": {},
   "outputs": [
    {
     "data": {
      "text/plain": [
       "22"
      ]
     },
     "execution_count": 6,
     "metadata": {},
     "output_type": "execute_result"
    }
   ],
   "source": [
    "len(indicators)"
   ]
  },
  {
   "cell_type": "code",
   "execution_count": 7,
   "metadata": {},
   "outputs": [
    {
     "data": {
      "application/vnd.jupyter.widget-view+json": {
       "model_id": "a932ddec88c34f6a93b6960c676e8283",
       "version_major": 2,
       "version_minor": 0
      },
      "text/plain": [
       "HBox(children=(FloatProgress(value=0.0, max=22.0), HTML(value='')))"
      ]
     },
     "metadata": {},
     "output_type": "display_data"
    },
    {
     "name": "stdout",
     "output_type": "stream",
     "text": [
      "USSLIND retrieved\n",
      "UMCSENT retrieved\n",
      "CSCICP03USM665S retrieved\n",
      "INDPRO retrieved\n",
      "TCU retrieved\n",
      "DGORDER retrieved\n",
      "NEWORDER retrieved\n",
      "PI retrieved\n",
      "BUSINV retrieved\n",
      "TOTALSA retrieved\n",
      "MARTSMPCSM44X72USS retrieved\n",
      "PAYEMS retrieved\n",
      "UNRATE retrieved\n",
      "ICSA retrieved\n",
      "CCSA retrieved\n",
      "CC4WSA retrieved\n",
      "NPPTTL retrieved\n",
      "CES0500000003 retrieved\n",
      "HSN1F retrieved\n",
      "EXHOSLUSM495S retrieved\n",
      "PERMIT retrieved\n",
      "CSUSHPINSA retrieved\n",
      "\n"
     ]
    }
   ],
   "source": [
    "#function to create dataframe and csv's for each indicator\n",
    "errors=[]\n",
    "for indicator in tqdm_notebook(indicators):\n",
    "    try:\n",
    "         #get data and info series\n",
    "        data = fred.get_series(indicator, observation_start='1/31/1990')\n",
    "        info = fred.get_series_info(indicator)\n",
    "        #store as df's and reset indexes \n",
    "        data_df = pd.DataFrame(data)\n",
    "        data_df.reset_index(level=0, inplace=True)\n",
    "        info_df = pd.DataFrame(info)\n",
    "        info_df.reset_index(level=0, inplace=True)\n",
    "        #pivot info_df\n",
    "        info_df.reset_index(level=0, inplace=True)\n",
    "        df_dict = dict(zip(info_df['index'],info_df[0]))\n",
    "        info_df = pd.DataFrame(df_dict,  index=[0])\n",
    "        #duplicate info_df rows to equal data_df length\n",
    "        info_df = pd.concat([info_df]*(len(data_df)), ignore_index=True)\n",
    "        #join df's\n",
    "        combine_df = data_df.join(info_df)\n",
    "        #rename columns\n",
    "        combine_df.rename(columns = {'index':'date', 0:'data'}, inplace = True) \n",
    "        #create new 'change from last column'\n",
    "        combine_df.insert(2, 'change', np.nan)\n",
    "        #create data for 'change' column\n",
    "        changes = [combine_df.iloc[i,2]-combine_df.iloc[i-1,2] for i in range (1,len(combine_df))]\n",
    "        change_clean = [float(\"{0:.3f}\".format(x)) for x in changes]\n",
    "        combine_df['change'][1:len(combine_df)] = change_clean\n",
    "        #write to csv\n",
    "        combine_df.to_csv(f\"data/{indicator}.csv\",index = False, header = True)  \n",
    "        time.sleep(0.2)\n",
    "        print(f'{indicator} retrieved')\n",
    "    except: \n",
    "        print(f'error with {indicator} data. Proceeding...')\n",
    "        errors.append(indicator)\n",
    "        \n",
    "    "
   ]
  },
  {
   "cell_type": "code",
   "execution_count": 1,
   "metadata": {},
   "outputs": [
    {
     "ename": "NameError",
     "evalue": "name 'combine_df' is not defined",
     "output_type": "error",
     "traceback": [
      "\u001b[1;31m---------------------------------------------------------------------------\u001b[0m",
      "\u001b[1;31mNameError\u001b[0m                                 Traceback (most recent call last)",
      "\u001b[1;32m<ipython-input-1-32a0eaa8641d>\u001b[0m in \u001b[0;36m<module>\u001b[1;34m\u001b[0m\n\u001b[1;32m----> 1\u001b[1;33m \u001b[0mcombine_df\u001b[0m\u001b[1;33m.\u001b[0m\u001b[0mhead\u001b[0m\u001b[1;33m(\u001b[0m\u001b[1;33m)\u001b[0m\u001b[1;33m\u001b[0m\u001b[1;33m\u001b[0m\u001b[0m\n\u001b[0m",
      "\u001b[1;31mNameError\u001b[0m: name 'combine_df' is not defined"
     ]
    }
   ],
   "source": [
    "combine_df.head()"
   ]
  },
  {
   "cell_type": "markdown",
   "metadata": {},
   "source": [
    "## fredapi Examples\n",
    "s = fred.get_series('SP500', observation_start='1/31/2014')\n",
    "info = fred.get_series_info('PAYEMS')\n",
    "info['title']\n",
    "df = fred.search_by_category(101, limit=10, order_by='popularity', sort_order='desc')\n",
    "df['title']\n",
    "more info at https://mortada.net/python-api-for-fred.html"
   ]
  },
  {
   "cell_type": "code",
   "execution_count": null,
   "metadata": {},
   "outputs": [],
   "source": []
  }
 ],
 "metadata": {
  "kernelspec": {
   "display_name": "Python 3",
   "language": "python",
   "name": "python3"
  },
  "language_info": {
   "codemirror_mode": {
    "name": "ipython",
    "version": 3
   },
   "file_extension": ".py",
   "mimetype": "text/x-python",
   "name": "python",
   "nbconvert_exporter": "python",
   "pygments_lexer": "ipython3",
   "version": "3.7.6"
  }
 },
 "nbformat": 4,
 "nbformat_minor": 4
}
