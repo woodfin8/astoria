{
 "cells": [
  {
   "cell_type": "code",
   "execution_count": 29,
   "metadata": {},
   "outputs": [],
   "source": [
    "import pandas as pd\n",
    "import numpy as np\n",
    "from fredapi import Fred\n",
    "from config import key, pwrd\n",
    "from tqdm import tqdm, tqdm_notebook\n",
    "import warnings\n",
    "import time\n",
    "from sqlalchemy import create_engine\n",
    "warnings.filterwarnings('ignore')"
   ]
  },
  {
   "cell_type": "code",
   "execution_count": 30,
   "metadata": {},
   "outputs": [],
   "source": [
    "#SQL connect to local database\n",
    "# rds_connection_string = \"postgres:\"+ pwrd + \"@localhost:5432/astoria\"\n",
    "# engine = create_engine(f'postgresql://{rds_connection_string}')"
   ]
  },
  {
   "cell_type": "code",
   "execution_count": 31,
   "metadata": {},
   "outputs": [],
   "source": [
    "#define FRED API call\n",
    "fred = Fred(api_key= key)"
   ]
  },
  {
   "cell_type": "code",
   "execution_count": 32,
   "metadata": {},
   "outputs": [],
   "source": [
    "#set column view options\n",
    "pd.set_option('display.max_columns', 999)\n",
    "pd.set_option('display.max_rows', 50)"
   ]
  },
  {
   "cell_type": "code",
   "execution_count": 33,
   "metadata": {},
   "outputs": [],
   "source": [
    "# Code to search FRED database\n",
    "# search = fred.search('500', order_by='popularity', sort_order='desc')\n",
    "# search_df = pd.DataFrame(search[['title', 'id', 'popularity', 'units','seasonal_adjustment_short']])\n",
    "# search_df[:20]"
   ]
  },
  {
   "cell_type": "code",
   "execution_count": 34,
   "metadata": {},
   "outputs": [],
   "source": [
    "#desired indicators\n",
    "indicators = ['USSLIND', 'UMCSENT', 'CSCICP03USM665S', 'INDPRO', 'TCU','DGORDER', 'NEWORDER', 'PI','BUSINV', 'TOTALSA',\n",
    "             'MARTSMPCSM44X72USS', 'PAYEMS', 'UNRATE', 'ICSA', 'CCSA', 'CC4WSA', 'NPPTTL', 'CES0500000003', 'HSN1F',\n",
    "             'EXHOSLUSM495S', 'PERMIT', 'CSUSHPINSA', 'SP500']"
   ]
  },
  {
   "cell_type": "code",
   "execution_count": 35,
   "metadata": {},
   "outputs": [
    {
     "data": {
      "text/plain": [
       "23"
      ]
     },
     "execution_count": 35,
     "metadata": {},
     "output_type": "execute_result"
    }
   ],
   "source": [
    "len(indicators)"
   ]
  },
  {
   "cell_type": "code",
   "execution_count": 38,
   "metadata": {},
   "outputs": [
    {
     "data": {
      "application/vnd.jupyter.widget-view+json": {
       "model_id": "ec17c68e14c84f41ad6195d9469a3278",
       "version_major": 2,
       "version_minor": 0
      },
      "text/plain": [
       "HBox(children=(FloatProgress(value=0.0, max=23.0), HTML(value='')))"
      ]
     },
     "metadata": {},
     "output_type": "display_data"
    },
    {
     "name": "stdout",
     "output_type": "stream",
     "text": [
      "USSLIND retrieved\n",
      "UMCSENT retrieved\n",
      "CSCICP03USM665S retrieved\n",
      "INDPRO retrieved\n",
      "TCU retrieved\n",
      "DGORDER retrieved\n",
      "NEWORDER retrieved\n",
      "PI retrieved\n",
      "BUSINV retrieved\n",
      "TOTALSA retrieved\n",
      "MARTSMPCSM44X72USS retrieved\n",
      "PAYEMS retrieved\n",
      "UNRATE retrieved\n",
      "ICSA retrieved\n",
      "CCSA retrieved\n",
      "CC4WSA retrieved\n",
      "NPPTTL retrieved\n",
      "CES0500000003 retrieved\n",
      "HSN1F retrieved\n",
      "EXHOSLUSM495S retrieved\n",
      "PERMIT retrieved\n",
      "CSUSHPINSA retrieved\n",
      "SP500 retrieved\n",
      "\n"
     ]
    }
   ],
   "source": [
    "#function to create dataframe and csv's for each indicator\n",
    "errors=[]\n",
    "for indicator in tqdm_notebook(indicators):\n",
    "    try:\n",
    "         #get data and info series\n",
    "        data = fred.get_series(indicator, observation_start='1/31/1990')\n",
    "        info = fred.get_series_info(indicator)\n",
    "        #store as df's and reset indexes \n",
    "        data_df = pd.DataFrame(data)\n",
    "        data_df.reset_index(level=0, inplace=True)\n",
    "        info_df = pd.DataFrame(info)\n",
    "        info_df.reset_index(level=0, inplace=True)\n",
    "        #pivot info_df\n",
    "        df_dict = dict(zip(info_df['index'],info_df[0]))\n",
    "        info_df = pd.DataFrame(df_dict,  index=[0])\n",
    "        #duplicate info_df rows to equal data_df length\n",
    "        info_df = pd.concat([info_df]*(len(data_df)), ignore_index=True)\n",
    "        #join df's\n",
    "        combine_df = data_df.join(info_df)\n",
    "        #rename columns\n",
    "        combine_df.rename(columns = {'index':'date', 0:'data'}, inplace = True) \n",
    "        #create new 'change from last column'\n",
    "        combine_df.insert(2, 'change', np.nan)\n",
    "        #fill nan with zeroes\n",
    "        combine_df['change'].fillna(0, inplace=True)\n",
    "        #create data for 'change' column\n",
    "        changes = [combine_df.iloc[i,1]-combine_df.iloc[i-1,1] for i in range (1,len(combine_df))]\n",
    "        change_clean = [float(\"{0:.3f}\".format(x)) for x in changes]\n",
    "        combine_df['change'][1:len(combine_df)] = change_clean\n",
    "        #write to csv\n",
    "        combine_df.to_csv(f\"data/{indicator}.csv\",index = False, header = True)\n",
    "        #export data to SQL\n",
    "#         combine_df.to_sql(name= indicator, con=engine, if_exists='replace', index=True)\n",
    "        time.sleep(0.2)\n",
    "        print(f'{indicator} retrieved')\n",
    "    except: \n",
    "        print(f'error with {indicator} data. Proceeding...')\n",
    "        errors.append(indicator)\n",
    "        \n",
    "    "
   ]
  },
  {
   "cell_type": "code",
   "execution_count": 39,
   "metadata": {},
   "outputs": [
    {
     "data": {
      "text/html": [
       "<div>\n",
       "<style scoped>\n",
       "    .dataframe tbody tr th:only-of-type {\n",
       "        vertical-align: middle;\n",
       "    }\n",
       "\n",
       "    .dataframe tbody tr th {\n",
       "        vertical-align: top;\n",
       "    }\n",
       "\n",
       "    .dataframe thead th {\n",
       "        text-align: right;\n",
       "    }\n",
       "</style>\n",
       "<table border=\"1\" class=\"dataframe\">\n",
       "  <thead>\n",
       "    <tr style=\"text-align: right;\">\n",
       "      <th></th>\n",
       "      <th>date</th>\n",
       "      <th>data</th>\n",
       "      <th>change</th>\n",
       "      <th>id</th>\n",
       "      <th>realtime_start</th>\n",
       "      <th>realtime_end</th>\n",
       "      <th>title</th>\n",
       "      <th>observation_start</th>\n",
       "      <th>observation_end</th>\n",
       "      <th>frequency</th>\n",
       "      <th>frequency_short</th>\n",
       "      <th>units</th>\n",
       "      <th>units_short</th>\n",
       "      <th>seasonal_adjustment</th>\n",
       "      <th>seasonal_adjustment_short</th>\n",
       "      <th>last_updated</th>\n",
       "      <th>popularity</th>\n",
       "      <th>notes</th>\n",
       "    </tr>\n",
       "  </thead>\n",
       "  <tbody>\n",
       "    <tr>\n",
       "      <th>0</th>\n",
       "      <td>2010-03-08</td>\n",
       "      <td>1138.50</td>\n",
       "      <td>0.00</td>\n",
       "      <td>SP500</td>\n",
       "      <td>2020-03-09</td>\n",
       "      <td>2020-03-09</td>\n",
       "      <td>S&amp;P 500</td>\n",
       "      <td>2010-03-08</td>\n",
       "      <td>2020-03-06</td>\n",
       "      <td>Daily, Close</td>\n",
       "      <td>D</td>\n",
       "      <td>Index</td>\n",
       "      <td>Index</td>\n",
       "      <td>Not Seasonally Adjusted</td>\n",
       "      <td>NSA</td>\n",
       "      <td>2020-03-06 19:10:58-06</td>\n",
       "      <td>85</td>\n",
       "      <td>The observations for the S&amp;P 500 represent the...</td>\n",
       "    </tr>\n",
       "    <tr>\n",
       "      <th>1</th>\n",
       "      <td>2010-03-09</td>\n",
       "      <td>1140.45</td>\n",
       "      <td>1.95</td>\n",
       "      <td>SP500</td>\n",
       "      <td>2020-03-09</td>\n",
       "      <td>2020-03-09</td>\n",
       "      <td>S&amp;P 500</td>\n",
       "      <td>2010-03-08</td>\n",
       "      <td>2020-03-06</td>\n",
       "      <td>Daily, Close</td>\n",
       "      <td>D</td>\n",
       "      <td>Index</td>\n",
       "      <td>Index</td>\n",
       "      <td>Not Seasonally Adjusted</td>\n",
       "      <td>NSA</td>\n",
       "      <td>2020-03-06 19:10:58-06</td>\n",
       "      <td>85</td>\n",
       "      <td>The observations for the S&amp;P 500 represent the...</td>\n",
       "    </tr>\n",
       "    <tr>\n",
       "      <th>2</th>\n",
       "      <td>2010-03-10</td>\n",
       "      <td>1145.61</td>\n",
       "      <td>5.16</td>\n",
       "      <td>SP500</td>\n",
       "      <td>2020-03-09</td>\n",
       "      <td>2020-03-09</td>\n",
       "      <td>S&amp;P 500</td>\n",
       "      <td>2010-03-08</td>\n",
       "      <td>2020-03-06</td>\n",
       "      <td>Daily, Close</td>\n",
       "      <td>D</td>\n",
       "      <td>Index</td>\n",
       "      <td>Index</td>\n",
       "      <td>Not Seasonally Adjusted</td>\n",
       "      <td>NSA</td>\n",
       "      <td>2020-03-06 19:10:58-06</td>\n",
       "      <td>85</td>\n",
       "      <td>The observations for the S&amp;P 500 represent the...</td>\n",
       "    </tr>\n",
       "    <tr>\n",
       "      <th>3</th>\n",
       "      <td>2010-03-11</td>\n",
       "      <td>1150.24</td>\n",
       "      <td>4.63</td>\n",
       "      <td>SP500</td>\n",
       "      <td>2020-03-09</td>\n",
       "      <td>2020-03-09</td>\n",
       "      <td>S&amp;P 500</td>\n",
       "      <td>2010-03-08</td>\n",
       "      <td>2020-03-06</td>\n",
       "      <td>Daily, Close</td>\n",
       "      <td>D</td>\n",
       "      <td>Index</td>\n",
       "      <td>Index</td>\n",
       "      <td>Not Seasonally Adjusted</td>\n",
       "      <td>NSA</td>\n",
       "      <td>2020-03-06 19:10:58-06</td>\n",
       "      <td>85</td>\n",
       "      <td>The observations for the S&amp;P 500 represent the...</td>\n",
       "    </tr>\n",
       "    <tr>\n",
       "      <th>4</th>\n",
       "      <td>2010-03-12</td>\n",
       "      <td>1149.99</td>\n",
       "      <td>-0.25</td>\n",
       "      <td>SP500</td>\n",
       "      <td>2020-03-09</td>\n",
       "      <td>2020-03-09</td>\n",
       "      <td>S&amp;P 500</td>\n",
       "      <td>2010-03-08</td>\n",
       "      <td>2020-03-06</td>\n",
       "      <td>Daily, Close</td>\n",
       "      <td>D</td>\n",
       "      <td>Index</td>\n",
       "      <td>Index</td>\n",
       "      <td>Not Seasonally Adjusted</td>\n",
       "      <td>NSA</td>\n",
       "      <td>2020-03-06 19:10:58-06</td>\n",
       "      <td>85</td>\n",
       "      <td>The observations for the S&amp;P 500 represent the...</td>\n",
       "    </tr>\n",
       "  </tbody>\n",
       "</table>\n",
       "</div>"
      ],
      "text/plain": [
       "        date     data  change     id realtime_start realtime_end    title  \\\n",
       "0 2010-03-08  1138.50    0.00  SP500     2020-03-09   2020-03-09  S&P 500   \n",
       "1 2010-03-09  1140.45    1.95  SP500     2020-03-09   2020-03-09  S&P 500   \n",
       "2 2010-03-10  1145.61    5.16  SP500     2020-03-09   2020-03-09  S&P 500   \n",
       "3 2010-03-11  1150.24    4.63  SP500     2020-03-09   2020-03-09  S&P 500   \n",
       "4 2010-03-12  1149.99   -0.25  SP500     2020-03-09   2020-03-09  S&P 500   \n",
       "\n",
       "  observation_start observation_end     frequency frequency_short  units  \\\n",
       "0        2010-03-08      2020-03-06  Daily, Close               D  Index   \n",
       "1        2010-03-08      2020-03-06  Daily, Close               D  Index   \n",
       "2        2010-03-08      2020-03-06  Daily, Close               D  Index   \n",
       "3        2010-03-08      2020-03-06  Daily, Close               D  Index   \n",
       "4        2010-03-08      2020-03-06  Daily, Close               D  Index   \n",
       "\n",
       "  units_short      seasonal_adjustment seasonal_adjustment_short  \\\n",
       "0       Index  Not Seasonally Adjusted                       NSA   \n",
       "1       Index  Not Seasonally Adjusted                       NSA   \n",
       "2       Index  Not Seasonally Adjusted                       NSA   \n",
       "3       Index  Not Seasonally Adjusted                       NSA   \n",
       "4       Index  Not Seasonally Adjusted                       NSA   \n",
       "\n",
       "             last_updated popularity  \\\n",
       "0  2020-03-06 19:10:58-06         85   \n",
       "1  2020-03-06 19:10:58-06         85   \n",
       "2  2020-03-06 19:10:58-06         85   \n",
       "3  2020-03-06 19:10:58-06         85   \n",
       "4  2020-03-06 19:10:58-06         85   \n",
       "\n",
       "                                               notes  \n",
       "0  The observations for the S&P 500 represent the...  \n",
       "1  The observations for the S&P 500 represent the...  \n",
       "2  The observations for the S&P 500 represent the...  \n",
       "3  The observations for the S&P 500 represent the...  \n",
       "4  The observations for the S&P 500 represent the...  "
      ]
     },
     "execution_count": 39,
     "metadata": {},
     "output_type": "execute_result"
    }
   ],
   "source": [
    "combine_df.head()"
   ]
  },
  {
   "cell_type": "markdown",
   "metadata": {},
   "source": [
    "## fredapi Examples\n",
    "s = fred.get_series('SP500', observation_start='1/31/2014')\n",
    "info = fred.get_series_info('PAYEMS')\n",
    "info['title']\n",
    "df = fred.search_by_category(101, limit=10, order_by='popularity', sort_order='desc')\n",
    "df['title']\n",
    "more info at https://mortada.net/python-api-for-fred.html"
   ]
  },
  {
   "cell_type": "code",
   "execution_count": null,
   "metadata": {},
   "outputs": [],
   "source": []
  }
 ],
 "metadata": {
  "kernelspec": {
   "display_name": "Python 3",
   "language": "python",
   "name": "python3"
  },
  "language_info": {
   "codemirror_mode": {
    "name": "ipython",
    "version": 3
   },
   "file_extension": ".py",
   "mimetype": "text/x-python",
   "name": "python",
   "nbconvert_exporter": "python",
   "pygments_lexer": "ipython3",
   "version": "3.7.6"
  }
 },
 "nbformat": 4,
 "nbformat_minor": 4
}
