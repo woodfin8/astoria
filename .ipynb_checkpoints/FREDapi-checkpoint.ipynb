{
 "cells": [
  {
   "cell_type": "code",
   "execution_count": 132,
   "metadata": {},
   "outputs": [],
   "source": [
    "import pandas as pd\n",
    "from fredapi import Fred\n",
    "from config import key\n",
    "from tqdm import tqdm, tqdm_notebook\n",
    "import warnings\n",
    "import time\n",
    "warnings.filterwarnings('ignore')"
   ]
  },
  {
   "cell_type": "code",
   "execution_count": 133,
   "metadata": {},
   "outputs": [],
   "source": [
    "#define FRED API call\n",
    "fred = Fred(api_key= key)"
   ]
  },
  {
   "cell_type": "code",
   "execution_count": 134,
   "metadata": {},
   "outputs": [],
   "source": [
    "#set column view options\n",
    "pd.set_option('display.max_columns', 999)\n",
    "pd.set_option('display.max_rows', 50)\n",
    "pd.set_option('display.max_colwidth', -1)"
   ]
  },
  {
   "cell_type": "code",
   "execution_count": null,
   "metadata": {},
   "outputs": [],
   "source": [
    "## Code to search FRED database\n",
    "# search = fred.search('new home sales', order_by='popularity', sort_order='desc')\n",
    "# search_df = pd.DataFrame(search[['title', 'id', 'popularity', 'units','seasonal_adjustment_short']])\n",
    "# search_df[:20]"
   ]
  },
  {
   "cell_type": "code",
   "execution_count": 69,
   "metadata": {},
   "outputs": [],
   "source": [
    "#desired indicators\n",
    "indicators = ['USSLIND', 'UMCSENT', 'CSCICP03USM665S', 'INDPRO', 'TCU','DGORDER', 'NEWORDER', 'PI','BUSINV', 'TOTALSA',\n",
    "             'MARTSMPCSM44X72USS', 'PAYEMS', 'UNRATE', 'ICSA', 'CCSA', 'CC4WSA', 'NPPTTL', 'CES0500000003', 'HSN1F',\n",
    "             'EXHOSLUSM495S', 'PERMIT', 'M0264AUSM500NNBR', 'M0263AUSM500NNBR', 'CSUSHPINSA']"
   ]
  },
  {
   "cell_type": "code",
   "execution_count": 72,
   "metadata": {},
   "outputs": [
    {
     "data": {
      "application/vnd.jupyter.widget-view+json": {
       "model_id": "74916d990fd34d3a947e938c52c1145e",
       "version_major": 2,
       "version_minor": 0
      },
      "text/plain": [
       "HBox(children=(FloatProgress(value=0.0, max=24.0), HTML(value='')))"
      ]
     },
     "metadata": {},
     "output_type": "display_data"
    },
    {
     "name": "stdout",
     "output_type": "stream",
     "text": [
      "USSLIND retrieved\n",
      "UMCSENT retrieved\n",
      "CSCICP03USM665S retrieved\n",
      "INDPRO retrieved\n",
      "TCU retrieved\n",
      "DGORDER retrieved\n",
      "NEWORDER retrieved\n",
      "PI retrieved\n",
      "BUSINV retrieved\n",
      "TOTALSA retrieved\n",
      "MARTSMPCSM44X72USS retrieved\n",
      "PAYEMS retrieved\n",
      "UNRATE retrieved\n",
      "ICSA retrieved\n",
      "CCSA retrieved\n",
      "CC4WSA retrieved\n",
      "NPPTTL retrieved\n",
      "CES0500000003 retrieved\n",
      "HSN1F retrieved\n",
      "EXHOSLUSM495S retrieved\n",
      "PERMIT retrieved\n",
      "M0264AUSM500NNBR retrieved\n",
      "M0263AUSM500NNBR retrieved\n",
      "CSUSHPINSA retrieved\n",
      "\n"
     ]
    }
   ],
   "source": [
    "#function to create dataframe and csv's for each indicator\n",
    "for indicator in tqdm_notebook(indicators):\n",
    "    #get data and info series\n",
    "    data = fred.get_series(indicator, observation_start='1/31/1990')\n",
    "    info = fred.get_series_info(indicator)\n",
    "    #store as df's and reset indexes \n",
    "    data_df = pd.DataFrame(data)\n",
    "    data_df.reset_index(level=0, inplace=True)\n",
    "    info_df = pd.DataFrame(info)\n",
    "    info_df.reset_index(level=0, inplace=True)\n",
    "    #pivot info_df\n",
    "    info_df.reset_index(level=0, inplace=True)\n",
    "    df_dict = dict(zip(info_df['index'],info_df[0]))\n",
    "    info_df = pd.DataFrame(df_dict,  index=[0])\n",
    "    #duplicate info_df rows to equal data_df length\n",
    "    info_df = pd.concat([info_df]*(len(data_df)), ignore_index=True)\n",
    "    #join df's\n",
    "    combine_df = data_df.join(info_df)\n",
    "    #rename columns\n",
    "    combine_df.rename(columns = {'index':'date', 0:'data'}, inplace = True) \n",
    "    #create data for 'change' column\n",
    "    \n",
    "    #create new 'change from last column'\n",
    "    combine_df.insert(2, 'change', data)\n",
    "    #write to csv\n",
    "    combine_df.to_csv(f\"{indicator}.csv\",index = False, header = True)                      \n",
    "    time.sleep(.1)\n",
    "    print(f'{indicator} retrieved')\n",
    "    "
   ]
  },
  {
   "cell_type": "markdown",
   "metadata": {},
   "source": [
    "## Examples\n",
    "s = fred.get_series('SP500', observation_start='1/31/2014')\n",
    "info = fred.get_series_info('PAYEMS')\n",
    "info['title']\n",
    "df = fred.search_by_category(101, limit=10, order_by='popularity', sort_order='desc')\n",
    "df['title']"
   ]
  },
  {
   "cell_type": "code",
   "execution_count": 136,
   "metadata": {},
   "outputs": [
    {
     "data": {
      "text/plain": [
       "'CSUSHPINSA'"
      ]
     },
     "execution_count": 136,
     "metadata": {},
     "output_type": "execute_result"
    }
   ],
   "source": []
  },
  {
   "cell_type": "code",
   "execution_count": 101,
   "metadata": {},
   "outputs": [],
   "source": [
    "#pivot info dataframe\n",
    "info_df.reset_index(level=0, inplace=True)\n",
    "df_dict = dict(zip(info_df['index'],info_df[0]))"
   ]
  },
  {
   "cell_type": "code",
   "execution_count": 108,
   "metadata": {},
   "outputs": [
    {
     "data": {
      "text/plain": [
       "{'id': 'CSUSHPINSA',\n",
       " 'realtime_start': '2020-02-17',\n",
       " 'realtime_end': '2020-02-17',\n",
       " 'title': 'S&P/Case-Shiller U.S. National Home Price Index',\n",
       " 'observation_start': '1987-01-01',\n",
       " 'observation_end': '2019-11-01',\n",
       " 'frequency': 'Monthly',\n",
       " 'frequency_short': 'M',\n",
       " 'units': 'Index Jan 2000=100',\n",
       " 'units_short': 'Index Jan 2000=100',\n",
       " 'seasonal_adjustment': 'Not Seasonally Adjusted',\n",
       " 'seasonal_adjustment_short': 'NSA',\n",
       " 'last_updated': '2020-01-28 08:22:02-06',\n",
       " 'popularity': '86',\n",
       " 'notes': \"For more information regarding the index, please visit Standard & Poor's (http://us.spindices.com/index-family/real-estate/sp-corelogic-case-shiller). There is more information about home price sales pairs in the Methodology section. Copyright, 2016, Standard & Poor's Financial Services LLC. Reprinted with permission.\"}"
      ]
     },
     "execution_count": 108,
     "metadata": {},
     "output_type": "execute_result"
    }
   ],
   "source": [
    "df_dict = dict(df_list)\n",
    "df_dict\n",
    "dict(zip(keys, values))"
   ]
  },
  {
   "cell_type": "code",
   "execution_count": 112,
   "metadata": {},
   "outputs": [],
   "source": [
    "final_df = pd.DataFrame(df_dict,  index=[0])"
   ]
  },
  {
   "cell_type": "code",
   "execution_count": 113,
   "metadata": {},
   "outputs": [
    {
     "data": {
      "text/html": [
       "<div>\n",
       "<style scoped>\n",
       "    .dataframe tbody tr th:only-of-type {\n",
       "        vertical-align: middle;\n",
       "    }\n",
       "\n",
       "    .dataframe tbody tr th {\n",
       "        vertical-align: top;\n",
       "    }\n",
       "\n",
       "    .dataframe thead th {\n",
       "        text-align: right;\n",
       "    }\n",
       "</style>\n",
       "<table border=\"1\" class=\"dataframe\">\n",
       "  <thead>\n",
       "    <tr style=\"text-align: right;\">\n",
       "      <th></th>\n",
       "      <th>id</th>\n",
       "      <th>realtime_start</th>\n",
       "      <th>realtime_end</th>\n",
       "      <th>title</th>\n",
       "      <th>observation_start</th>\n",
       "      <th>observation_end</th>\n",
       "      <th>frequency</th>\n",
       "      <th>frequency_short</th>\n",
       "      <th>units</th>\n",
       "      <th>units_short</th>\n",
       "      <th>seasonal_adjustment</th>\n",
       "      <th>seasonal_adjustment_short</th>\n",
       "      <th>last_updated</th>\n",
       "      <th>popularity</th>\n",
       "      <th>notes</th>\n",
       "    </tr>\n",
       "  </thead>\n",
       "  <tbody>\n",
       "    <tr>\n",
       "      <th>0</th>\n",
       "      <td>CSUSHPINSA</td>\n",
       "      <td>2020-02-17</td>\n",
       "      <td>2020-02-17</td>\n",
       "      <td>S&amp;P/Case-Shiller U.S. National Home Price Index</td>\n",
       "      <td>1987-01-01</td>\n",
       "      <td>2019-11-01</td>\n",
       "      <td>Monthly</td>\n",
       "      <td>M</td>\n",
       "      <td>Index Jan 2000=100</td>\n",
       "      <td>Index Jan 2000=100</td>\n",
       "      <td>Not Seasonally Adjusted</td>\n",
       "      <td>NSA</td>\n",
       "      <td>2020-01-28 08:22:02-06</td>\n",
       "      <td>86</td>\n",
       "      <td>For more information regarding the index, please visit Standard &amp; Poor's (http://us.spindices.com/index-family/real-estate/sp-corelogic-case-shiller). There is more information about home price sales pairs in the Methodology section. Copyright, 2016, Standard &amp; Poor's Financial Services LLC. Reprinted with permission.</td>\n",
       "    </tr>\n",
       "  </tbody>\n",
       "</table>\n",
       "</div>"
      ],
      "text/plain": [
       "           id realtime_start realtime_end                                            title observation_start observation_end frequency frequency_short               units         units_short      seasonal_adjustment seasonal_adjustment_short            last_updated popularity                                                                                                                                                                                                                                                                                                                            notes\n",
       "0  CSUSHPINSA  2020-02-17     2020-02-17   S&P/Case-Shiller U.S. National Home Price Index  1987-01-01        2019-11-01      Monthly   M               Index Jan 2000=100  Index Jan 2000=100  Not Seasonally Adjusted  NSA                       2020-01-28 08:22:02-06  86         For more information regarding the index, please visit Standard & Poor's (http://us.spindices.com/index-family/real-estate/sp-corelogic-case-shiller). There is more information about home price sales pairs in the Methodology section. Copyright, 2016, Standard & Poor's Financial Services LLC. Reprinted with permission."
      ]
     },
     "execution_count": 113,
     "metadata": {},
     "output_type": "execute_result"
    }
   ],
   "source": [
    "final_df"
   ]
  },
  {
   "cell_type": "markdown",
   "metadata": {},
   "source": [
    "#insert player stats into ncaa_data\n",
    "ncaa_data = []\n",
    "for player in tqdm_notebook(clean_df[\"player_id\"]):\n",
    "    ncaa = Player(player)\n",
    "    player_list = []\n",
    "    player_dict = {}\n",
    "    for stat in stats:\n",
    "        try:\n",
    "            var = eval(f'ncaa.{stat}')\n",
    "            player_list.append((stat, var))\n",
    "        except:\n",
    "            var = np.nan\n",
    "            print(player,stat, var)\n",
    "            player_list.append((stat, var))\n",
    "    player_dict.update(player_list)\n",
    "    ncaa_data.append(player_dict)\n",
    "    \n",
    " #zip two lists together\n",
    "combined_40 = list(zip(per_40,for_40))\n",
    "    "
   ]
  },
  {
   "cell_type": "code",
   "execution_count": 85,
   "metadata": {},
   "outputs": [],
   "source": [
    "pivot_df = info_df.pivot(columns = 'index', values = 0)\n"
   ]
  },
  {
   "cell_type": "code",
   "execution_count": 115,
   "metadata": {},
   "outputs": [
    {
     "data": {
      "text/html": [
       "<div>\n",
       "<style scoped>\n",
       "    .dataframe tbody tr th:only-of-type {\n",
       "        vertical-align: middle;\n",
       "    }\n",
       "\n",
       "    .dataframe tbody tr th {\n",
       "        vertical-align: top;\n",
       "    }\n",
       "\n",
       "    .dataframe thead th {\n",
       "        text-align: right;\n",
       "    }\n",
       "</style>\n",
       "<table border=\"1\" class=\"dataframe\">\n",
       "  <thead>\n",
       "    <tr style=\"text-align: right;\">\n",
       "      <th></th>\n",
       "      <th>index</th>\n",
       "      <th>0</th>\n",
       "    </tr>\n",
       "  </thead>\n",
       "  <tbody>\n",
       "    <tr>\n",
       "      <th>0</th>\n",
       "      <td>1990-01-01</td>\n",
       "      <td>76.527</td>\n",
       "    </tr>\n",
       "    <tr>\n",
       "      <th>1</th>\n",
       "      <td>1990-02-01</td>\n",
       "      <td>76.587</td>\n",
       "    </tr>\n",
       "    <tr>\n",
       "      <th>2</th>\n",
       "      <td>1990-03-01</td>\n",
       "      <td>76.790</td>\n",
       "    </tr>\n",
       "    <tr>\n",
       "      <th>3</th>\n",
       "      <td>1990-04-01</td>\n",
       "      <td>77.041</td>\n",
       "    </tr>\n",
       "    <tr>\n",
       "      <th>4</th>\n",
       "      <td>1990-05-01</td>\n",
       "      <td>77.299</td>\n",
       "    </tr>\n",
       "    <tr>\n",
       "      <th>...</th>\n",
       "      <td>...</td>\n",
       "      <td>...</td>\n",
       "    </tr>\n",
       "    <tr>\n",
       "      <th>354</th>\n",
       "      <td>2019-07-01</td>\n",
       "      <td>211.611</td>\n",
       "    </tr>\n",
       "    <tr>\n",
       "      <th>355</th>\n",
       "      <td>2019-08-01</td>\n",
       "      <td>211.987</td>\n",
       "    </tr>\n",
       "    <tr>\n",
       "      <th>356</th>\n",
       "      <td>2019-09-01</td>\n",
       "      <td>212.161</td>\n",
       "    </tr>\n",
       "    <tr>\n",
       "      <th>357</th>\n",
       "      <td>2019-10-01</td>\n",
       "      <td>212.242</td>\n",
       "    </tr>\n",
       "    <tr>\n",
       "      <th>358</th>\n",
       "      <td>2019-11-01</td>\n",
       "      <td>212.557</td>\n",
       "    </tr>\n",
       "  </tbody>\n",
       "</table>\n",
       "<p>359 rows × 2 columns</p>\n",
       "</div>"
      ],
      "text/plain": [
       "         index        0\n",
       "0   1990-01-01  76.527 \n",
       "1   1990-02-01  76.587 \n",
       "2   1990-03-01  76.790 \n",
       "3   1990-04-01  77.041 \n",
       "4   1990-05-01  77.299 \n",
       "..         ...     ... \n",
       "354 2019-07-01  211.611\n",
       "355 2019-08-01  211.987\n",
       "356 2019-09-01  212.161\n",
       "357 2019-10-01  212.242\n",
       "358 2019-11-01  212.557\n",
       "\n",
       "[359 rows x 2 columns]"
      ]
     },
     "execution_count": 115,
     "metadata": {},
     "output_type": "execute_result"
    }
   ],
   "source": [
    "data_df = pd.DataFrame(data)\n",
    "data_df.reset_index(level=0, inplace=True)\n",
    "data_df"
   ]
  },
  {
   "cell_type": "code",
   "execution_count": 124,
   "metadata": {},
   "outputs": [],
   "source": [
    "df_repeat = pd.concat([final_df]*(len(data_df)), ignore_index=True)"
   ]
  },
  {
   "cell_type": "code",
   "execution_count": 127,
   "metadata": {},
   "outputs": [
    {
     "name": "stdout",
     "output_type": "stream",
     "text": [
      "359\n",
      "359\n"
     ]
    }
   ],
   "source": [
    "print(len(df_repeat))\n",
    "print(len(data_df))"
   ]
  },
  {
   "cell_type": "code",
   "execution_count": 128,
   "metadata": {},
   "outputs": [],
   "source": [
    "combined = data_df.join(df_repeat)"
   ]
  },
  {
   "cell_type": "code",
   "execution_count": 131,
   "metadata": {},
   "outputs": [
    {
     "data": {
      "text/plain": [
       "359"
      ]
     },
     "execution_count": 131,
     "metadata": {},
     "output_type": "execute_result"
    }
   ],
   "source": [
    "len(combined)"
   ]
  },
  {
   "cell_type": "code",
   "execution_count": 137,
   "metadata": {},
   "outputs": [
    {
     "data": {
      "text/plain": [
       "'CSUSHPINSA'"
      ]
     },
     "execution_count": 137,
     "metadata": {},
     "output_type": "execute_result"
    }
   ],
   "source": [
    "indicator"
   ]
  },
  {
   "cell_type": "code",
   "execution_count": 139,
   "metadata": {},
   "outputs": [
    {
     "data": {
      "text/html": [
       "<div>\n",
       "<style scoped>\n",
       "    .dataframe tbody tr th:only-of-type {\n",
       "        vertical-align: middle;\n",
       "    }\n",
       "\n",
       "    .dataframe tbody tr th {\n",
       "        vertical-align: top;\n",
       "    }\n",
       "\n",
       "    .dataframe thead th {\n",
       "        text-align: right;\n",
       "    }\n",
       "</style>\n",
       "<table border=\"1\" class=\"dataframe\">\n",
       "  <thead>\n",
       "    <tr style=\"text-align: right;\">\n",
       "      <th></th>\n",
       "      <th>index</th>\n",
       "      <th>0</th>\n",
       "      <th>id</th>\n",
       "      <th>realtime_start</th>\n",
       "      <th>realtime_end</th>\n",
       "      <th>title</th>\n",
       "      <th>observation_start</th>\n",
       "      <th>observation_end</th>\n",
       "      <th>frequency</th>\n",
       "      <th>frequency_short</th>\n",
       "      <th>units</th>\n",
       "      <th>units_short</th>\n",
       "      <th>seasonal_adjustment</th>\n",
       "      <th>seasonal_adjustment_short</th>\n",
       "      <th>last_updated</th>\n",
       "      <th>popularity</th>\n",
       "      <th>notes</th>\n",
       "    </tr>\n",
       "  </thead>\n",
       "  <tbody>\n",
       "    <tr>\n",
       "      <th>0</th>\n",
       "      <td>1990-01-01</td>\n",
       "      <td>76.527</td>\n",
       "      <td>CSUSHPINSA</td>\n",
       "      <td>2020-02-17</td>\n",
       "      <td>2020-02-17</td>\n",
       "      <td>S&amp;P/Case-Shiller U.S. National Home Price Index</td>\n",
       "      <td>1987-01-01</td>\n",
       "      <td>2019-11-01</td>\n",
       "      <td>Monthly</td>\n",
       "      <td>M</td>\n",
       "      <td>Index Jan 2000=100</td>\n",
       "      <td>Index Jan 2000=100</td>\n",
       "      <td>Not Seasonally Adjusted</td>\n",
       "      <td>NSA</td>\n",
       "      <td>2020-01-28 08:22:02-06</td>\n",
       "      <td>86</td>\n",
       "      <td>For more information regarding the index, please visit Standard &amp; Poor's (http://us.spindices.com/index-family/real-estate/sp-corelogic-case-shiller). There is more information about home price sales pairs in the Methodology section. Copyright, 2016, Standard &amp; Poor's Financial Services LLC. Reprinted with permission.</td>\n",
       "    </tr>\n",
       "    <tr>\n",
       "      <th>1</th>\n",
       "      <td>1990-02-01</td>\n",
       "      <td>76.587</td>\n",
       "      <td>CSUSHPINSA</td>\n",
       "      <td>2020-02-17</td>\n",
       "      <td>2020-02-17</td>\n",
       "      <td>S&amp;P/Case-Shiller U.S. National Home Price Index</td>\n",
       "      <td>1987-01-01</td>\n",
       "      <td>2019-11-01</td>\n",
       "      <td>Monthly</td>\n",
       "      <td>M</td>\n",
       "      <td>Index Jan 2000=100</td>\n",
       "      <td>Index Jan 2000=100</td>\n",
       "      <td>Not Seasonally Adjusted</td>\n",
       "      <td>NSA</td>\n",
       "      <td>2020-01-28 08:22:02-06</td>\n",
       "      <td>86</td>\n",
       "      <td>For more information regarding the index, please visit Standard &amp; Poor's (http://us.spindices.com/index-family/real-estate/sp-corelogic-case-shiller). There is more information about home price sales pairs in the Methodology section. Copyright, 2016, Standard &amp; Poor's Financial Services LLC. Reprinted with permission.</td>\n",
       "    </tr>\n",
       "    <tr>\n",
       "      <th>2</th>\n",
       "      <td>1990-03-01</td>\n",
       "      <td>76.790</td>\n",
       "      <td>CSUSHPINSA</td>\n",
       "      <td>2020-02-17</td>\n",
       "      <td>2020-02-17</td>\n",
       "      <td>S&amp;P/Case-Shiller U.S. National Home Price Index</td>\n",
       "      <td>1987-01-01</td>\n",
       "      <td>2019-11-01</td>\n",
       "      <td>Monthly</td>\n",
       "      <td>M</td>\n",
       "      <td>Index Jan 2000=100</td>\n",
       "      <td>Index Jan 2000=100</td>\n",
       "      <td>Not Seasonally Adjusted</td>\n",
       "      <td>NSA</td>\n",
       "      <td>2020-01-28 08:22:02-06</td>\n",
       "      <td>86</td>\n",
       "      <td>For more information regarding the index, please visit Standard &amp; Poor's (http://us.spindices.com/index-family/real-estate/sp-corelogic-case-shiller). There is more information about home price sales pairs in the Methodology section. Copyright, 2016, Standard &amp; Poor's Financial Services LLC. Reprinted with permission.</td>\n",
       "    </tr>\n",
       "    <tr>\n",
       "      <th>3</th>\n",
       "      <td>1990-04-01</td>\n",
       "      <td>77.041</td>\n",
       "      <td>CSUSHPINSA</td>\n",
       "      <td>2020-02-17</td>\n",
       "      <td>2020-02-17</td>\n",
       "      <td>S&amp;P/Case-Shiller U.S. National Home Price Index</td>\n",
       "      <td>1987-01-01</td>\n",
       "      <td>2019-11-01</td>\n",
       "      <td>Monthly</td>\n",
       "      <td>M</td>\n",
       "      <td>Index Jan 2000=100</td>\n",
       "      <td>Index Jan 2000=100</td>\n",
       "      <td>Not Seasonally Adjusted</td>\n",
       "      <td>NSA</td>\n",
       "      <td>2020-01-28 08:22:02-06</td>\n",
       "      <td>86</td>\n",
       "      <td>For more information regarding the index, please visit Standard &amp; Poor's (http://us.spindices.com/index-family/real-estate/sp-corelogic-case-shiller). There is more information about home price sales pairs in the Methodology section. Copyright, 2016, Standard &amp; Poor's Financial Services LLC. Reprinted with permission.</td>\n",
       "    </tr>\n",
       "    <tr>\n",
       "      <th>4</th>\n",
       "      <td>1990-05-01</td>\n",
       "      <td>77.299</td>\n",
       "      <td>CSUSHPINSA</td>\n",
       "      <td>2020-02-17</td>\n",
       "      <td>2020-02-17</td>\n",
       "      <td>S&amp;P/Case-Shiller U.S. National Home Price Index</td>\n",
       "      <td>1987-01-01</td>\n",
       "      <td>2019-11-01</td>\n",
       "      <td>Monthly</td>\n",
       "      <td>M</td>\n",
       "      <td>Index Jan 2000=100</td>\n",
       "      <td>Index Jan 2000=100</td>\n",
       "      <td>Not Seasonally Adjusted</td>\n",
       "      <td>NSA</td>\n",
       "      <td>2020-01-28 08:22:02-06</td>\n",
       "      <td>86</td>\n",
       "      <td>For more information regarding the index, please visit Standard &amp; Poor's (http://us.spindices.com/index-family/real-estate/sp-corelogic-case-shiller). There is more information about home price sales pairs in the Methodology section. Copyright, 2016, Standard &amp; Poor's Financial Services LLC. Reprinted with permission.</td>\n",
       "    </tr>\n",
       "    <tr>\n",
       "      <th>...</th>\n",
       "      <td>...</td>\n",
       "      <td>...</td>\n",
       "      <td>...</td>\n",
       "      <td>...</td>\n",
       "      <td>...</td>\n",
       "      <td>...</td>\n",
       "      <td>...</td>\n",
       "      <td>...</td>\n",
       "      <td>...</td>\n",
       "      <td>...</td>\n",
       "      <td>...</td>\n",
       "      <td>...</td>\n",
       "      <td>...</td>\n",
       "      <td>...</td>\n",
       "      <td>...</td>\n",
       "      <td>...</td>\n",
       "      <td>...</td>\n",
       "    </tr>\n",
       "    <tr>\n",
       "      <th>354</th>\n",
       "      <td>2019-07-01</td>\n",
       "      <td>211.611</td>\n",
       "      <td>CSUSHPINSA</td>\n",
       "      <td>2020-02-17</td>\n",
       "      <td>2020-02-17</td>\n",
       "      <td>S&amp;P/Case-Shiller U.S. National Home Price Index</td>\n",
       "      <td>1987-01-01</td>\n",
       "      <td>2019-11-01</td>\n",
       "      <td>Monthly</td>\n",
       "      <td>M</td>\n",
       "      <td>Index Jan 2000=100</td>\n",
       "      <td>Index Jan 2000=100</td>\n",
       "      <td>Not Seasonally Adjusted</td>\n",
       "      <td>NSA</td>\n",
       "      <td>2020-01-28 08:22:02-06</td>\n",
       "      <td>86</td>\n",
       "      <td>For more information regarding the index, please visit Standard &amp; Poor's (http://us.spindices.com/index-family/real-estate/sp-corelogic-case-shiller). There is more information about home price sales pairs in the Methodology section. Copyright, 2016, Standard &amp; Poor's Financial Services LLC. Reprinted with permission.</td>\n",
       "    </tr>\n",
       "    <tr>\n",
       "      <th>355</th>\n",
       "      <td>2019-08-01</td>\n",
       "      <td>211.987</td>\n",
       "      <td>CSUSHPINSA</td>\n",
       "      <td>2020-02-17</td>\n",
       "      <td>2020-02-17</td>\n",
       "      <td>S&amp;P/Case-Shiller U.S. National Home Price Index</td>\n",
       "      <td>1987-01-01</td>\n",
       "      <td>2019-11-01</td>\n",
       "      <td>Monthly</td>\n",
       "      <td>M</td>\n",
       "      <td>Index Jan 2000=100</td>\n",
       "      <td>Index Jan 2000=100</td>\n",
       "      <td>Not Seasonally Adjusted</td>\n",
       "      <td>NSA</td>\n",
       "      <td>2020-01-28 08:22:02-06</td>\n",
       "      <td>86</td>\n",
       "      <td>For more information regarding the index, please visit Standard &amp; Poor's (http://us.spindices.com/index-family/real-estate/sp-corelogic-case-shiller). There is more information about home price sales pairs in the Methodology section. Copyright, 2016, Standard &amp; Poor's Financial Services LLC. Reprinted with permission.</td>\n",
       "    </tr>\n",
       "    <tr>\n",
       "      <th>356</th>\n",
       "      <td>2019-09-01</td>\n",
       "      <td>212.161</td>\n",
       "      <td>CSUSHPINSA</td>\n",
       "      <td>2020-02-17</td>\n",
       "      <td>2020-02-17</td>\n",
       "      <td>S&amp;P/Case-Shiller U.S. National Home Price Index</td>\n",
       "      <td>1987-01-01</td>\n",
       "      <td>2019-11-01</td>\n",
       "      <td>Monthly</td>\n",
       "      <td>M</td>\n",
       "      <td>Index Jan 2000=100</td>\n",
       "      <td>Index Jan 2000=100</td>\n",
       "      <td>Not Seasonally Adjusted</td>\n",
       "      <td>NSA</td>\n",
       "      <td>2020-01-28 08:22:02-06</td>\n",
       "      <td>86</td>\n",
       "      <td>For more information regarding the index, please visit Standard &amp; Poor's (http://us.spindices.com/index-family/real-estate/sp-corelogic-case-shiller). There is more information about home price sales pairs in the Methodology section. Copyright, 2016, Standard &amp; Poor's Financial Services LLC. Reprinted with permission.</td>\n",
       "    </tr>\n",
       "    <tr>\n",
       "      <th>357</th>\n",
       "      <td>2019-10-01</td>\n",
       "      <td>212.242</td>\n",
       "      <td>CSUSHPINSA</td>\n",
       "      <td>2020-02-17</td>\n",
       "      <td>2020-02-17</td>\n",
       "      <td>S&amp;P/Case-Shiller U.S. National Home Price Index</td>\n",
       "      <td>1987-01-01</td>\n",
       "      <td>2019-11-01</td>\n",
       "      <td>Monthly</td>\n",
       "      <td>M</td>\n",
       "      <td>Index Jan 2000=100</td>\n",
       "      <td>Index Jan 2000=100</td>\n",
       "      <td>Not Seasonally Adjusted</td>\n",
       "      <td>NSA</td>\n",
       "      <td>2020-01-28 08:22:02-06</td>\n",
       "      <td>86</td>\n",
       "      <td>For more information regarding the index, please visit Standard &amp; Poor's (http://us.spindices.com/index-family/real-estate/sp-corelogic-case-shiller). There is more information about home price sales pairs in the Methodology section. Copyright, 2016, Standard &amp; Poor's Financial Services LLC. Reprinted with permission.</td>\n",
       "    </tr>\n",
       "    <tr>\n",
       "      <th>358</th>\n",
       "      <td>2019-11-01</td>\n",
       "      <td>212.557</td>\n",
       "      <td>CSUSHPINSA</td>\n",
       "      <td>2020-02-17</td>\n",
       "      <td>2020-02-17</td>\n",
       "      <td>S&amp;P/Case-Shiller U.S. National Home Price Index</td>\n",
       "      <td>1987-01-01</td>\n",
       "      <td>2019-11-01</td>\n",
       "      <td>Monthly</td>\n",
       "      <td>M</td>\n",
       "      <td>Index Jan 2000=100</td>\n",
       "      <td>Index Jan 2000=100</td>\n",
       "      <td>Not Seasonally Adjusted</td>\n",
       "      <td>NSA</td>\n",
       "      <td>2020-01-28 08:22:02-06</td>\n",
       "      <td>86</td>\n",
       "      <td>For more information regarding the index, please visit Standard &amp; Poor's (http://us.spindices.com/index-family/real-estate/sp-corelogic-case-shiller). There is more information about home price sales pairs in the Methodology section. Copyright, 2016, Standard &amp; Poor's Financial Services LLC. Reprinted with permission.</td>\n",
       "    </tr>\n",
       "  </tbody>\n",
       "</table>\n",
       "<p>359 rows × 17 columns</p>\n",
       "</div>"
      ],
      "text/plain": [
       "         index        0          id realtime_start realtime_end                                            title observation_start observation_end frequency frequency_short               units         units_short      seasonal_adjustment seasonal_adjustment_short            last_updated popularity                                                                                                                                                                                                                                                                                                                            notes\n",
       "0   1990-01-01  76.527   CSUSHPINSA  2020-02-17     2020-02-17   S&P/Case-Shiller U.S. National Home Price Index  1987-01-01        2019-11-01      Monthly   M               Index Jan 2000=100  Index Jan 2000=100  Not Seasonally Adjusted  NSA                       2020-01-28 08:22:02-06  86         For more information regarding the index, please visit Standard & Poor's (http://us.spindices.com/index-family/real-estate/sp-corelogic-case-shiller). There is more information about home price sales pairs in the Methodology section. Copyright, 2016, Standard & Poor's Financial Services LLC. Reprinted with permission.\n",
       "1   1990-02-01  76.587   CSUSHPINSA  2020-02-17     2020-02-17   S&P/Case-Shiller U.S. National Home Price Index  1987-01-01        2019-11-01      Monthly   M               Index Jan 2000=100  Index Jan 2000=100  Not Seasonally Adjusted  NSA                       2020-01-28 08:22:02-06  86         For more information regarding the index, please visit Standard & Poor's (http://us.spindices.com/index-family/real-estate/sp-corelogic-case-shiller). There is more information about home price sales pairs in the Methodology section. Copyright, 2016, Standard & Poor's Financial Services LLC. Reprinted with permission.\n",
       "2   1990-03-01  76.790   CSUSHPINSA  2020-02-17     2020-02-17   S&P/Case-Shiller U.S. National Home Price Index  1987-01-01        2019-11-01      Monthly   M               Index Jan 2000=100  Index Jan 2000=100  Not Seasonally Adjusted  NSA                       2020-01-28 08:22:02-06  86         For more information regarding the index, please visit Standard & Poor's (http://us.spindices.com/index-family/real-estate/sp-corelogic-case-shiller). There is more information about home price sales pairs in the Methodology section. Copyright, 2016, Standard & Poor's Financial Services LLC. Reprinted with permission.\n",
       "3   1990-04-01  77.041   CSUSHPINSA  2020-02-17     2020-02-17   S&P/Case-Shiller U.S. National Home Price Index  1987-01-01        2019-11-01      Monthly   M               Index Jan 2000=100  Index Jan 2000=100  Not Seasonally Adjusted  NSA                       2020-01-28 08:22:02-06  86         For more information regarding the index, please visit Standard & Poor's (http://us.spindices.com/index-family/real-estate/sp-corelogic-case-shiller). There is more information about home price sales pairs in the Methodology section. Copyright, 2016, Standard & Poor's Financial Services LLC. Reprinted with permission.\n",
       "4   1990-05-01  77.299   CSUSHPINSA  2020-02-17     2020-02-17   S&P/Case-Shiller U.S. National Home Price Index  1987-01-01        2019-11-01      Monthly   M               Index Jan 2000=100  Index Jan 2000=100  Not Seasonally Adjusted  NSA                       2020-01-28 08:22:02-06  86         For more information regarding the index, please visit Standard & Poor's (http://us.spindices.com/index-family/real-estate/sp-corelogic-case-shiller). There is more information about home price sales pairs in the Methodology section. Copyright, 2016, Standard & Poor's Financial Services LLC. Reprinted with permission.\n",
       "..         ...     ...          ...         ...            ...                                               ...         ...               ...          ...  ..                              ...                 ...                      ...  ...                                          ...  ..                                                                                                                                                                                                                                                                                                                                     ...\n",
       "354 2019-07-01  211.611  CSUSHPINSA  2020-02-17     2020-02-17   S&P/Case-Shiller U.S. National Home Price Index  1987-01-01        2019-11-01      Monthly   M               Index Jan 2000=100  Index Jan 2000=100  Not Seasonally Adjusted  NSA                       2020-01-28 08:22:02-06  86         For more information regarding the index, please visit Standard & Poor's (http://us.spindices.com/index-family/real-estate/sp-corelogic-case-shiller). There is more information about home price sales pairs in the Methodology section. Copyright, 2016, Standard & Poor's Financial Services LLC. Reprinted with permission.\n",
       "355 2019-08-01  211.987  CSUSHPINSA  2020-02-17     2020-02-17   S&P/Case-Shiller U.S. National Home Price Index  1987-01-01        2019-11-01      Monthly   M               Index Jan 2000=100  Index Jan 2000=100  Not Seasonally Adjusted  NSA                       2020-01-28 08:22:02-06  86         For more information regarding the index, please visit Standard & Poor's (http://us.spindices.com/index-family/real-estate/sp-corelogic-case-shiller). There is more information about home price sales pairs in the Methodology section. Copyright, 2016, Standard & Poor's Financial Services LLC. Reprinted with permission.\n",
       "356 2019-09-01  212.161  CSUSHPINSA  2020-02-17     2020-02-17   S&P/Case-Shiller U.S. National Home Price Index  1987-01-01        2019-11-01      Monthly   M               Index Jan 2000=100  Index Jan 2000=100  Not Seasonally Adjusted  NSA                       2020-01-28 08:22:02-06  86         For more information regarding the index, please visit Standard & Poor's (http://us.spindices.com/index-family/real-estate/sp-corelogic-case-shiller). There is more information about home price sales pairs in the Methodology section. Copyright, 2016, Standard & Poor's Financial Services LLC. Reprinted with permission.\n",
       "357 2019-10-01  212.242  CSUSHPINSA  2020-02-17     2020-02-17   S&P/Case-Shiller U.S. National Home Price Index  1987-01-01        2019-11-01      Monthly   M               Index Jan 2000=100  Index Jan 2000=100  Not Seasonally Adjusted  NSA                       2020-01-28 08:22:02-06  86         For more information regarding the index, please visit Standard & Poor's (http://us.spindices.com/index-family/real-estate/sp-corelogic-case-shiller). There is more information about home price sales pairs in the Methodology section. Copyright, 2016, Standard & Poor's Financial Services LLC. Reprinted with permission.\n",
       "358 2019-11-01  212.557  CSUSHPINSA  2020-02-17     2020-02-17   S&P/Case-Shiller U.S. National Home Price Index  1987-01-01        2019-11-01      Monthly   M               Index Jan 2000=100  Index Jan 2000=100  Not Seasonally Adjusted  NSA                       2020-01-28 08:22:02-06  86         For more information regarding the index, please visit Standard & Poor's (http://us.spindices.com/index-family/real-estate/sp-corelogic-case-shiller). There is more information about home price sales pairs in the Methodology section. Copyright, 2016, Standard & Poor's Financial Services LLC. Reprinted with permission.\n",
       "\n",
       "[359 rows x 17 columns]"
      ]
     },
     "execution_count": 139,
     "metadata": {},
     "output_type": "execute_result"
    }
   ],
   "source": [
    "combined"
   ]
  },
  {
   "cell_type": "code",
   "execution_count": null,
   "metadata": {},
   "outputs": [],
   "source": []
  }
 ],
 "metadata": {
  "kernelspec": {
   "display_name": "Python 3",
   "language": "python",
   "name": "python3"
  },
  "language_info": {
   "codemirror_mode": {
    "name": "ipython",
    "version": 3
   },
   "file_extension": ".py",
   "mimetype": "text/x-python",
   "name": "python",
   "nbconvert_exporter": "python",
   "pygments_lexer": "ipython3",
   "version": "3.7.6"
  }
 },
 "nbformat": 4,
 "nbformat_minor": 4
}
