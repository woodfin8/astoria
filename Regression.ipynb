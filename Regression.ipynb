{
 "cells": [
  {
   "cell_type": "code",
   "execution_count": null,
   "metadata": {},
   "outputs": [],
   "source": [
    "import pandas as pd\n",
    "import numpy as np\n",
    "import warnings\n",
    "warnings.filterwarnings('ignore')\n"
   ]
  },
  {
   "cell_type": "code",
   "execution_count": 24,
   "metadata": {},
   "outputs": [],
   "source": [
    "def add_series(path):\n",
    "    path1 = path\n",
    "    #remove quotes\n",
    "    path1 = path1.replace('\"', '')\n",
    "    #read into pandas\n",
    "    global series1\n",
    "    series1 = pd.read_csv(path1)\n",
    "    if type(series1.iloc[0,-1]) == str:\n",
    "        #change last column to float\n",
    "        series1.iloc[:,-1] = series1.iloc[:,-1].str.replace(',', '').astype(float)\n",
    "    #show heading\n",
    "    add_change(series1)\n",
    "    add_pct(series1)\n",
    "    return series1.head()\n",
    "    "
   ]
  },
  {
   "cell_type": "code",
   "execution_count": 13,
   "metadata": {},
   "outputs": [],
   "source": [
    "def add_change(series):\n",
    "    #calculate change col for series1, convert strings to floats\n",
    "    changes = [series.iloc[i,-1] - series.iloc[i-1,-1] for i in range (1,len(series))]\n",
    "    #round the results\n",
    "    change_clean = [float(\"{0:.3f}\".format(x)) for x in changes]\n",
    "    #create change column\n",
    "    series.insert(1, 'change', np.nan_to_num(0))\n",
    "    #insert the data from second row to the end\n",
    "    series['change'][1:len(series)] = change_clean"
   ]
  },
  {
   "cell_type": "code",
   "execution_count": 14,
   "metadata": {},
   "outputs": [],
   "source": [
    "def add_pct(series):\n",
    "    #calculate percent change col for series1\n",
    "    pct_change = [(series.iloc[i,-1]/series.iloc[i-1,-1] -1) * 100 for i in range(1,len(series))]\n",
    "    #round the results\n",
    "    pct_clean = [float(\"{0:.3f}\".format(x)) for x in pct_change]\n",
    "    #create pct_change column\n",
    "    series.insert(1, 'pct_change', np.nan_to_num(0))\n",
    "    #insert the data from second row to the end\n",
    "    series['pct_change'][1:len(series)] = pct_clean\n",
    "    "
   ]
  },
  {
   "cell_type": "code",
   "execution_count": 22,
   "metadata": {},
   "outputs": [
    {
     "name": "stdout",
     "output_type": "stream",
     "text": [
      "Paste path for first indicator: \"C:\\Users\\woodf\\astoria\\data\\koyfin_spx.csv\"\n",
      "Column headers for 1st indictaor are: Index([' Date', 'pct_change', 'change', 'SPX Open', 'SPX Low', 'SPX High',\n",
      "       'SPX Close', 'SPX Adj. Close'],\n",
      "      dtype='object')\n"
     ]
    },
    {
     "data": {
      "text/html": [
       "<div>\n",
       "<style scoped>\n",
       "    .dataframe tbody tr th:only-of-type {\n",
       "        vertical-align: middle;\n",
       "    }\n",
       "\n",
       "    .dataframe tbody tr th {\n",
       "        vertical-align: top;\n",
       "    }\n",
       "\n",
       "    .dataframe thead th {\n",
       "        text-align: right;\n",
       "    }\n",
       "</style>\n",
       "<table border=\"1\" class=\"dataframe\">\n",
       "  <thead>\n",
       "    <tr style=\"text-align: right;\">\n",
       "      <th></th>\n",
       "      <th>Date</th>\n",
       "      <th>pct_change</th>\n",
       "      <th>change</th>\n",
       "      <th>SPX Open</th>\n",
       "      <th>SPX Low</th>\n",
       "      <th>SPX High</th>\n",
       "      <th>SPX Close</th>\n",
       "      <th>SPX Adj. Close</th>\n",
       "    </tr>\n",
       "  </thead>\n",
       "  <tbody>\n",
       "    <tr>\n",
       "      <th>0</th>\n",
       "      <td>05-04-2020</td>\n",
       "      <td>0.000</td>\n",
       "      <td>0.00</td>\n",
       "      <td>2,815.00</td>\n",
       "      <td>2,798.00</td>\n",
       "      <td>2,827.00</td>\n",
       "      <td>2,815.00</td>\n",
       "      <td>2815.00</td>\n",
       "    </tr>\n",
       "    <tr>\n",
       "      <th>1</th>\n",
       "      <td>05-01-2020</td>\n",
       "      <td>0.558</td>\n",
       "      <td>15.71</td>\n",
       "      <td>2,869.09</td>\n",
       "      <td>2,821.61</td>\n",
       "      <td>2,869.09</td>\n",
       "      <td>2,830.71</td>\n",
       "      <td>2830.71</td>\n",
       "    </tr>\n",
       "    <tr>\n",
       "      <th>2</th>\n",
       "      <td>04-30-2020</td>\n",
       "      <td>2.887</td>\n",
       "      <td>81.72</td>\n",
       "      <td>2,930.91</td>\n",
       "      <td>2,892.47</td>\n",
       "      <td>2,930.91</td>\n",
       "      <td>2,912.43</td>\n",
       "      <td>2912.43</td>\n",
       "    </tr>\n",
       "    <tr>\n",
       "      <th>3</th>\n",
       "      <td>04-29-2020</td>\n",
       "      <td>0.930</td>\n",
       "      <td>27.08</td>\n",
       "      <td>2,918.46</td>\n",
       "      <td>2,912.16</td>\n",
       "      <td>2,954.86</td>\n",
       "      <td>2,939.51</td>\n",
       "      <td>2939.51</td>\n",
       "    </tr>\n",
       "    <tr>\n",
       "      <th>4</th>\n",
       "      <td>04-28-2020</td>\n",
       "      <td>-2.590</td>\n",
       "      <td>-76.12</td>\n",
       "      <td>2,909.96</td>\n",
       "      <td>2,860.71</td>\n",
       "      <td>2,921.15</td>\n",
       "      <td>2,863.39</td>\n",
       "      <td>2863.39</td>\n",
       "    </tr>\n",
       "  </tbody>\n",
       "</table>\n",
       "</div>"
      ],
      "text/plain": [
       "         Date  pct_change  change   SPX Open    SPX Low   SPX High  SPX Close  \\\n",
       "0  05-04-2020       0.000    0.00  2,815.00   2,798.00   2,827.00   2,815.00    \n",
       "1  05-01-2020       0.558   15.71  2,869.09   2,821.61   2,869.09   2,830.71    \n",
       "2  04-30-2020       2.887   81.72  2,930.91   2,892.47   2,930.91   2,912.43    \n",
       "3  04-29-2020       0.930   27.08  2,918.46   2,912.16   2,954.86   2,939.51    \n",
       "4  04-28-2020      -2.590  -76.12  2,909.96   2,860.71   2,921.15   2,863.39    \n",
       "\n",
       "   SPX Adj. Close  \n",
       "0         2815.00  \n",
       "1         2830.71  \n",
       "2         2912.43  \n",
       "3         2939.51  \n",
       "4         2863.39  "
      ]
     },
     "execution_count": 22,
     "metadata": {},
     "output_type": "execute_result"
    }
   ],
   "source": [
    "file1 = input(\"Paste path for the x-axis data: \")\n",
    "add_series(file1)\n",
    "indic1 = series1\n",
    "print(f'Column headers for 1st indictaor are: {indic1.columns}')\n",
    "indic1.head()"
   ]
  },
  {
   "cell_type": "code",
   "execution_count": null,
   "metadata": {},
   "outputs": [],
   "source": [
    "x_col = input('Enter column header for x-axis')\n",
    "x_data = indic1[x_col]"
   ]
  },
  {
   "cell_type": "code",
   "execution_count": 26,
   "metadata": {},
   "outputs": [
    {
     "name": "stdout",
     "output_type": "stream",
     "text": [
      "Paste path for second indicator: \"C:\\Users\\woodf\\astoria\\data\\koyfin_nfp.csv\"\n",
      "Column headers for 2nd indictaor are: Index([' Date', 'pct_change', 'change', 'NFP_TCH Close', 'NFP_TCH Adj. Close'], dtype='object')\n"
     ]
    },
    {
     "data": {
      "text/html": [
       "<div>\n",
       "<style scoped>\n",
       "    .dataframe tbody tr th:only-of-type {\n",
       "        vertical-align: middle;\n",
       "    }\n",
       "\n",
       "    .dataframe tbody tr th {\n",
       "        vertical-align: top;\n",
       "    }\n",
       "\n",
       "    .dataframe thead th {\n",
       "        text-align: right;\n",
       "    }\n",
       "</style>\n",
       "<table border=\"1\" class=\"dataframe\">\n",
       "  <thead>\n",
       "    <tr style=\"text-align: right;\">\n",
       "      <th></th>\n",
       "      <th>Date</th>\n",
       "      <th>pct_change</th>\n",
       "      <th>change</th>\n",
       "      <th>NFP_TCH Close</th>\n",
       "      <th>NFP_TCH Adj. Close</th>\n",
       "    </tr>\n",
       "  </thead>\n",
       "  <tbody>\n",
       "    <tr>\n",
       "      <th>0</th>\n",
       "      <td>03-31-2020</td>\n",
       "      <td>0.000</td>\n",
       "      <td>0.0</td>\n",
       "      <td>-701.0</td>\n",
       "      <td>-701.0</td>\n",
       "    </tr>\n",
       "    <tr>\n",
       "      <th>1</th>\n",
       "      <td>02-29-2020</td>\n",
       "      <td>-138.944</td>\n",
       "      <td>974.0</td>\n",
       "      <td>273.0</td>\n",
       "      <td>273.0</td>\n",
       "    </tr>\n",
       "    <tr>\n",
       "      <th>2</th>\n",
       "      <td>02-28-2020</td>\n",
       "      <td>0.000</td>\n",
       "      <td>0.0</td>\n",
       "      <td>273.0</td>\n",
       "      <td>273.0</td>\n",
       "    </tr>\n",
       "    <tr>\n",
       "      <th>3</th>\n",
       "      <td>01-31-2020</td>\n",
       "      <td>-17.582</td>\n",
       "      <td>-48.0</td>\n",
       "      <td>225.0</td>\n",
       "      <td>225.0</td>\n",
       "    </tr>\n",
       "    <tr>\n",
       "      <th>4</th>\n",
       "      <td>12-31-2019</td>\n",
       "      <td>-35.556</td>\n",
       "      <td>-80.0</td>\n",
       "      <td>145.0</td>\n",
       "      <td>145.0</td>\n",
       "    </tr>\n",
       "  </tbody>\n",
       "</table>\n",
       "</div>"
      ],
      "text/plain": [
       "         Date  pct_change  change  NFP_TCH Close  NFP_TCH Adj. Close\n",
       "0  03-31-2020       0.000     0.0         -701.0              -701.0\n",
       "1  02-29-2020    -138.944   974.0          273.0               273.0\n",
       "2  02-28-2020       0.000     0.0          273.0               273.0\n",
       "3  01-31-2020     -17.582   -48.0          225.0               225.0\n",
       "4  12-31-2019     -35.556   -80.0          145.0               145.0"
      ]
     },
     "execution_count": 26,
     "metadata": {},
     "output_type": "execute_result"
    }
   ],
   "source": [
    "file2 = input(\"Paste path for y-axis data: \")\n",
    "add_series(file2)\n",
    "indic2 = series1\n",
    "print(f'Column headers for 2nd indictaor are: {indic2.columns}')\n",
    "indic2.head()"
   ]
  },
  {
   "cell_type": "code",
   "execution_count": null,
   "metadata": {},
   "outputs": [],
   "source": [
    "y_col = input('Enter column header for y-axis')\n",
    "y_data = indic2[y_col]\n"
   ]
  }
 ],
 "metadata": {
  "kernelspec": {
   "display_name": "Python 3",
   "language": "python",
   "name": "python3"
  },
  "language_info": {
   "codemirror_mode": {
    "name": "ipython",
    "version": 3
   },
   "file_extension": ".py",
   "mimetype": "text/x-python",
   "name": "python",
   "nbconvert_exporter": "python",
   "pygments_lexer": "ipython3",
   "version": "3.7.6"
  }
 },
 "nbformat": 4,
 "nbformat_minor": 4
}
