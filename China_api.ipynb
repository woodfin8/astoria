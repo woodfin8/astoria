{
 "cells": [
  {
   "cell_type": "code",
   "execution_count": 11,
   "metadata": {},
   "outputs": [],
   "source": [
    "import quandl\n",
    "import pandas as pd\n",
    "from config import quand_key"
   ]
  },
  {
   "cell_type": "code",
   "execution_count": 5,
   "metadata": {},
   "outputs": [],
   "source": [
    "#set api key\n",
    "quandl.ApiConfig.api_key = quand_key"
   ]
  },
  {
   "cell_type": "code",
   "execution_count": 6,
   "metadata": {},
   "outputs": [],
   "source": [
    "data = quandl.get(\"NBSC/A020908_M\")"
   ]
  },
  {
   "cell_type": "markdown",
   "metadata": {},
   "source": [
    "Balance of Imports and Exports, Accumulated|A06010E_M\n",
    "Balance of Imports and Exports, Current Period|A06010D_M\n",
    "Consumer Price Index (preceding month=100)|A01030101_M\n",
    "Consumer Price Index (The same month last year=100)|A01010101_M\n",
    "Consumer Price Index (The same period last year=100)|A01020101_M\n",
    "Employment index|A090208_M\n",
    "Employment index|A09010B_M\n",
    "Manufacturing Purchasing Managers' Index|A090101_M\n",
    "Money and Quasi-Money (M2) Supply,Growth Rate (The same period last year=100)|A0B0102_M\n",
    "Money and Quasi-Money (M2) Supply, period-end|A0B0101_M\n",
    "National Government Expenditure(exclude Debt Repayment), Accumulated|A0A0105_M\n",
    "National Government Expenditure(exclude Debt Repayment), Accumulated Growth Rate|A0A0106_M\n",
    "National Government Revenue, Accumulated|A0A0102_M\n",
    "National Government Revenue,Accumulated Growth Rate|A0A0104_M\n",
    "National Government Revenue, Current Period|A0A0101_M\n",
    "National Government Revenue, Growth Rate (The same period last year=100)|A0A0103_M\n",
    "New orders index|A090103_M\n",
    "New orders index|A090202_M\n",
    "Non-Manufacturing Business Index|A090201_M\n",
    "Power Generation, Accumulated|A02082002_M\n",
    "Power Generation, Accumulated Growth Rate|A02082004_M\n",
    "Power Generation, Current Month|A02082001_M\n",
    "Power Generation, Growth Rate (The same period last year=100)|A02082003_M\n",
    "Producer Price Index for Industrial Products (preceding month=100)|A01080701_M\n",
    "Producer Price Index for Industrial Products (The same month last year=100)|A010901_M\n",
    "Producer Price Index for Industrial Products (The same month last year=100)|A01080101_M\n",
    "Producer Price Index for Industrial Products (The same period last year=100)|A01080401_M\n",
    "Supplier delivery time index|A09010C_M\n",
    "Supplier delivery time index|A090209_M\n",
    "Retail Sales of Consumer Goods of Enterprises above Designated Size,Accumulated|A050106_M\n",
    "Retail Sales of Consumer Goods of Enterprises above Designated Size,Accumulated Growth Rate|A050108_M\n",
    "Retail Sales of Consumer Goods of Enterprises above Designated Size,Current Period|A050105_M\n",
    "Retail Sales of Consumer Goods of Enterprises above Designated Size,Growth Rate (The same period last year=100)|A050107_M\n",
    "GDP Growth| NBSC/A070502_141_I_A\n",
    "GDP Level| "
   ]
  },
  {
   "cell_type": "code",
   "execution_count": null,
   "metadata": {},
   "outputs": [],
   "source": [
    "indicators = ['A010301_Q', 'A0B0102_M']"
   ]
  },
  {
   "cell_type": "code",
   "execution_count": 10,
   "metadata": {},
   "outputs": [
    {
     "data": {
      "text/html": [
       "<div>\n",
       "<style scoped>\n",
       "    .dataframe tbody tr th:only-of-type {\n",
       "        vertical-align: middle;\n",
       "    }\n",
       "\n",
       "    .dataframe tbody tr th {\n",
       "        vertical-align: top;\n",
       "    }\n",
       "\n",
       "    .dataframe thead th {\n",
       "        text-align: right;\n",
       "    }\n",
       "</style>\n",
       "<table border=\"1\" class=\"dataframe\">\n",
       "  <thead>\n",
       "    <tr style=\"text-align: right;\">\n",
       "      <th></th>\n",
       "      <th>Value</th>\n",
       "    </tr>\n",
       "    <tr>\n",
       "      <th>Date</th>\n",
       "      <th></th>\n",
       "    </tr>\n",
       "  </thead>\n",
       "  <tbody>\n",
       "    <tr>\n",
       "      <th>2001-02-28</th>\n",
       "      <td>13813.23</td>\n",
       "    </tr>\n",
       "    <tr>\n",
       "      <th>2001-03-31</th>\n",
       "      <td>14242.67</td>\n",
       "    </tr>\n",
       "    <tr>\n",
       "      <th>2001-04-30</th>\n",
       "      <td>14372.32</td>\n",
       "    </tr>\n",
       "    <tr>\n",
       "      <th>2001-05-31</th>\n",
       "      <td>14622.45</td>\n",
       "    </tr>\n",
       "    <tr>\n",
       "      <th>2001-06-30</th>\n",
       "      <td>14854.05</td>\n",
       "    </tr>\n",
       "    <tr>\n",
       "      <th>...</th>\n",
       "      <td>...</td>\n",
       "    </tr>\n",
       "    <tr>\n",
       "      <th>2017-06-30</th>\n",
       "      <td>126495.80</td>\n",
       "    </tr>\n",
       "    <tr>\n",
       "      <th>2017-07-31</th>\n",
       "      <td>128590.90</td>\n",
       "    </tr>\n",
       "    <tr>\n",
       "      <th>2017-08-31</th>\n",
       "      <td>129750.10</td>\n",
       "    </tr>\n",
       "    <tr>\n",
       "      <th>2017-09-30</th>\n",
       "      <td>132281.30</td>\n",
       "    </tr>\n",
       "    <tr>\n",
       "      <th>2017-10-31</th>\n",
       "      <td>135412.50</td>\n",
       "    </tr>\n",
       "  </tbody>\n",
       "</table>\n",
       "<p>159 rows × 1 columns</p>\n",
       "</div>"
      ],
      "text/plain": [
       "                Value\n",
       "Date                 \n",
       "2001-02-28   13813.23\n",
       "2001-03-31   14242.67\n",
       "2001-04-30   14372.32\n",
       "2001-05-31   14622.45\n",
       "2001-06-30   14854.05\n",
       "...               ...\n",
       "2017-06-30  126495.80\n",
       "2017-07-31  128590.90\n",
       "2017-08-31  129750.10\n",
       "2017-09-30  132281.30\n",
       "2017-10-31  135412.50\n",
       "\n",
       "[159 rows x 1 columns]"
      ]
     },
     "execution_count": 10,
     "metadata": {},
     "output_type": "execute_result"
    }
   ],
   "source": [
    "data"
   ]
  },
  {
   "cell_type": "code",
   "execution_count": null,
   "metadata": {},
   "outputs": [],
   "source": []
  }
 ],
 "metadata": {
  "kernelspec": {
   "display_name": "Python 3",
   "language": "python",
   "name": "python3"
  },
  "language_info": {
   "codemirror_mode": {
    "name": "ipython",
    "version": 3
   },
   "file_extension": ".py",
   "mimetype": "text/x-python",
   "name": "python",
   "nbconvert_exporter": "python",
   "pygments_lexer": "ipython3",
   "version": "3.7.6"
  }
 },
 "nbformat": 4,
 "nbformat_minor": 4
}
