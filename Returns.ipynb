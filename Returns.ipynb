{
 "cells": [
  {
   "cell_type": "code",
   "execution_count": 1,
   "metadata": {},
   "outputs": [],
   "source": [
    "import pandas as pd\n",
    "import numpy as np\n",
    "import matplotlib.pyplot as plt\n",
    "import matplotlib.dates as mdates\n",
    "from scipy.stats import linregress\n",
    "import warnings\n",
    "warnings.filterwarnings('ignore')"
   ]
  },
  {
   "cell_type": "code",
   "execution_count": 2,
   "metadata": {},
   "outputs": [],
   "source": [
    "def add_series(path):\n",
    "    path1 = path\n",
    "    #remove quotes\n",
    "    path1 = path1.replace('\"', '')\n",
    "    #read into pandas\n",
    "    global series1\n",
    "    series1 = pd.read_csv(path1)\n",
    "    if type(series1.iloc[0,-1]) == str:\n",
    "        #change last column to float\n",
    "        series1.iloc[:,-1] = series1.iloc[:,-1].str.replace(',', '').astype(float)\n",
    "    #show heading\n",
    "    add_change(series1)\n",
    "    add_pct(series1)\n",
    "    return series1.head()"
   ]
  },
  {
   "cell_type": "code",
   "execution_count": 3,
   "metadata": {},
   "outputs": [],
   "source": [
    "def add_change(series):\n",
    "    #calculate change col for series1, convert strings to floats\n",
    "    changes = [series.iloc[i,-1] - series.iloc[i-1,-1] for i in range (1,len(series))]\n",
    "    #round the results\n",
    "    change_clean = [float(\"{0:.3f}\".format(x)) for x in changes]\n",
    "    #create change column\n",
    "    series.insert(1, 'change', np.nan_to_num(0))\n",
    "    #insert the data from second row to the end\n",
    "    series['change'][1:len(series)] = change_clean"
   ]
  },
  {
   "cell_type": "code",
   "execution_count": 4,
   "metadata": {},
   "outputs": [],
   "source": [
    "def add_pct(series):\n",
    "    #calculate percent change col for series1\n",
    "    pct_change = [(series.iloc[i,-1]/series.iloc[i-1,-1] -1) * 100 for i in range(1,len(series))]\n",
    "    #round the results\n",
    "    pct_clean = [float(\"{0:.3f}\".format(x)) for x in pct_change]\n",
    "    #create pct_change column\n",
    "    series.insert(1, 'pct_change', np.nan_to_num(0))\n",
    "    #insert the data from second row to the end\n",
    "    series['pct_change'][1:len(series)] = pct_clean"
   ]
  },
  {
   "cell_type": "code",
   "execution_count": null,
   "metadata": {},
   "outputs": [],
   "source": [
    "#add path for csv containting data\n",
    "file = input(\"Paste path for the data: \")\n",
    "#run add_series function to transform csv into a df with change and pct_change columns added\n",
    "add_series(file)\n",
    "#define resulting df as indic1\n",
    "df = series1\n",
    "#show column names\n",
    "print(f'Column headers are: {df.columns}')\n",
    "#show first five rows\n",
    "df.head()"
   ]
  },
  {
   "cell_type": "code",
   "execution_count": null,
   "metadata": {},
   "outputs": [],
   "source": [
    "#pick column you want to chart\n",
    "col = input('Enter column you want to chart: ')\n",
    "#set y_data to that column\n",
    "data = df[col]\n",
    "date = df[\" Date\"]"
   ]
  },
  {
   "cell_type": "code",
   "execution_count": null,
   "metadata": {},
   "outputs": [],
   "source": [
    "#enter time frame (number)\n",
    "period = int(input('Enter time frame (must be an integer: '))\n",
    "#enter chart frequency(day, month or year)\n",
    "frequency = input('Enter chart frequency (days, months or years): ')"
   ]
  }
 ],
 "metadata": {
  "kernelspec": {
   "display_name": "Python 3",
   "language": "python",
   "name": "python3"
  },
  "language_info": {
   "codemirror_mode": {
    "name": "ipython",
    "version": 3
   },
   "file_extension": ".py",
   "mimetype": "text/x-python",
   "name": "python",
   "nbconvert_exporter": "python",
   "pygments_lexer": "ipython3",
   "version": "3.7.6"
  }
 },
 "nbformat": 4,
 "nbformat_minor": 4
}
